{
 "cells": [
  {
   "cell_type": "markdown",
   "id": "f6f4930b-e289-4129-b91b-82c59eb2f93c",
   "metadata": {},
   "source": [
    "# Data Science Tools and Ecosystem"
   ]
  },
  {
   "cell_type": "markdown",
   "id": "f98ac803-dd9c-44d9-9a6e-94c12ea89426",
   "metadata": {},
   "source": [
    "In this notebook, Data Science Tools and Ecosystem are summarized. "
   ]
  },
  {
   "cell_type": "markdown",
   "id": "39f82514-c312-4309-bc3d-1aa49f5bc42b",
   "metadata": {},
   "source": [
    "**Objectives:**\n",
    "- List popular languages for Data Science\n",
    "- List commonly used libraries for Data Scientists\n",
    "- List some tools for Data Science\n",
    "- Examples of arithmetic expression"
   ]
  },
  {
   "cell_type": "markdown",
   "id": "c8b62c1c-1c47-4ca7-85cd-ecbc05ed1921",
   "metadata": {},
   "source": [
    "Some of the popular languages that Data Scientists use are: \n",
    "1. R\n",
    "2. Python\n",
    "3. SQL"
   ]
  },
  {
   "cell_type": "markdown",
   "id": "a2b654bb-9589-4cac-b6f1-a03d26fd04e0",
   "metadata": {},
   "source": [
    "Some of the commonly used libraries used by Data Scientists include:\n",
    "1. Scientific computing libraries such as Pandas\n",
    "2. Visualization libraries like Matplotlib\n",
    "3. Machine learning and deep learning libraries like Scikit-learn"
   ]
  },
  {
   "cell_type": "markdown",
   "id": "cebd6e20-3ea2-4b2c-ba85-250814f4d6c4",
   "metadata": {},
   "source": [
    "|Data Science Tools|\n",
    "|------------------|\n",
    "|Jupyter Notebook|\n",
    "|R Studio|\n",
    "|Visual Studio|"
   ]
  },
  {
   "cell_type": "markdown",
   "id": "0dd7b003-eb2c-468c-a753-f366e4b4752b",
   "metadata": {},
   "source": [
    "### Below are a few examples of evaluating arithmetic expressions in Python"
   ]
  },
  {
   "cell_type": "code",
   "execution_count": 2,
   "id": "7541717c-3ad7-49e6-a266-daa2bf7696c2",
   "metadata": {
    "tags": []
   },
   "outputs": [
    {
     "data": {
      "text/plain": [
       "17"
      ]
     },
     "execution_count": 2,
     "metadata": {},
     "output_type": "execute_result"
    }
   ],
   "source": [
    "# This a simple arithmetic expression to multiply then add intergers.\n",
    "(3*4) +5"
   ]
  },
  {
   "cell_type": "code",
   "execution_count": 3,
   "id": "f17fac7d-5164-400a-8cc0-60aa555369c1",
   "metadata": {
    "tags": []
   },
   "outputs": [
    {
     "data": {
      "text/plain": [
       "3.3333333333333335"
      ]
     },
     "execution_count": 3,
     "metadata": {},
     "output_type": "execute_result"
    }
   ],
   "source": [
    "# This will convert 200 minutes to hours by diviing by 60.\n",
    "200/60"
   ]
  },
  {
   "cell_type": "markdown",
   "id": "04531b5a-7481-438f-af20-c8f5ac9f9735",
   "metadata": {},
   "source": [
    "## Author\n",
    "Xiaoqing Hu\n"
   ]
  },
  {
   "cell_type": "code",
   "execution_count": null,
   "id": "c53e41cb-4483-4afa-b1be-d46548eefc3d",
   "metadata": {},
   "outputs": [],
   "source": []
  }
 ],
 "metadata": {
  "kernelspec": {
   "display_name": "Python",
   "language": "python",
   "name": "conda-env-python-py"
  },
  "language_info": {
   "codemirror_mode": {
    "name": "ipython",
    "version": 3
   },
   "file_extension": ".py",
   "mimetype": "text/x-python",
   "name": "python",
   "nbconvert_exporter": "python",
   "pygments_lexer": "ipython3",
   "version": "3.7.12"
  }
 },
 "nbformat": 4,
 "nbformat_minor": 5
}
